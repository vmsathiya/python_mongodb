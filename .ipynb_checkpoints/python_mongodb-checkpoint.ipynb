{
 "cells": [
  {
   "cell_type": "markdown",
   "metadata": {},
   "source": [
    "PyMongo:\n",
    "-------------\n",
    "\n",
    "PyMongo is a MongoDB driver to access MongoDB database.\n",
    "\n",
    "Navigate your command line to the location of PIP, and type the following:\n",
    "\n",
    "Install pymongo using below command :\n",
    "---------------------------------------------------------\n",
    " python -m pip install pymongo\n",
    " \n",
    "base) C:\\Users\\Dharun> python -m pip install pymongo\n",
    "Collecting pymongo\n",
    "  Downloading https://files.pythonhosted.org/packages/5b/df/d0f82279467c72dd0c8cd1908e04a7fb56145a5d222704722e2593af79f1/pymongo-3.10.1-cp37-cp37m-win_amd64.whl (354kB)\n",
    "     |████████████████████████████████| 358kB 1.1MB/s\n",
    "Installing collected packages: pymongo\n",
    "Successfully installed pymongo-3.10.1"
   ]
  },
  {
   "cell_type": "code",
   "execution_count": null,
   "metadata": {},
   "outputs": [],
   "source": [
    "import pymongo\n",
    "\n",
    "myclient = pymongo.MongoClient(\"mongodb://localhost:27017/\")\n",
    "#Return a list of databases:\n",
    "print(myclient.list_database_names())"
   ]
  },
  {
   "cell_type": "code",
   "execution_count": null,
   "metadata": {},
   "outputs": [],
   "source": [
    "#In MongoDB, a databae/collection is not created until it gets content, \n",
    "mydb = myclient[\"mydatabase\"]\n",
    "mycol = mydb[\"customers\"]\n",
    "\n",
    "print(myclient.list_database_names())\n",
    "\n",
    "mydict = { \"name\": \"John\", \"address\": \"Highway 37\" }\n",
    "\n",
    "#insert a record\n",
    "#input - Dict/Json\n",
    "x = mycol.insert_one(mydict)\n",
    "\n",
    "print(x.inserted_id)\n",
    "\n",
    "print(myclient.list_database_names())"
   ]
  },
  {
   "cell_type": "markdown",
   "metadata": {},
   "source": [
    "> use mydatabase\n",
    "switched to db mydatabase\n",
    "> show collections\n",
    "customers\n",
    "> db.customers.find()\n",
    "{ \"_id\" : ObjectId(\"5f07c64d48d92b2292e37f61\"), \"name\" : \"John\", \"address\" : \"Highway 37\" }"
   ]
  },
  {
   "cell_type": "code",
   "execution_count": null,
   "metadata": {},
   "outputs": [],
   "source": [
    "#Insert Multiple Documents\n",
    "#input - list of Dict(Json)\n",
    "mylist = [\n",
    "  { \"name\": \"Amy\", \"address\": \"Apple st 652\"},\n",
    "  { \"name\": \"Hannah\", \"address\": \"Mountain 21\"},\n",
    "  { \"name\": \"Michael\", \"address\": \"Valley 345\"},\n",
    "  { \"name\": \"Sandy\", \"address\": \"Ocean blvd 2\"},\n",
    "  { \"name\": \"Betty\", \"address\": \"Green Grass 1\"},\n",
    "  { \"name\": \"Richard\", \"address\": \"Sky st 331\"},\n",
    "  { \"name\": \"Susan\", \"address\": \"One way 98\"},\n",
    "  { \"name\": \"Vicky\", \"address\": \"Yellow Garden 2\"},\n",
    "  { \"name\": \"Ben\", \"address\": \"Park Lane 38\"},\n",
    "  { \"name\": \"William\", \"address\": \"Central st 954\"},\n",
    "  { \"name\": \"Chuck\", \"address\": \"Main Road 989\"},\n",
    "  { \"name\": \"Viola\", \"address\": \"Sideway 1633\"}\n",
    "]\n",
    "\n",
    "x = mycol.insert_many(mylist)\n",
    "\n",
    "#print list of the _id values of the inserted documents:\n",
    "print(x.inserted_ids)"
   ]
  },
  {
   "cell_type": "markdown",
   "metadata": {},
   "source": [
    "> db.customers.find()\n",
    "{ \"_id\" : ObjectId(\"5f07c64d48d92b2292e37f61\"), \"name\" : \"John\", \"address\" : \"Highway 37\" }\n",
    "{ \"_id\" : ObjectId(\"5f07c72e48d92b2292e37f62\"), \"name\" : \"Amy\", \"address\" : \"Apple st 652\" }\n",
    "{ \"_id\" : ObjectId(\"5f07c72e48d92b2292e37f63\"), \"name\" : \"Hannah\", \"address\" : \"Mountain 21\" }\n",
    "{ \"_id\" : ObjectId(\"5f07c72e48d92b2292e37f64\"), \"name\" : \"Michael\", \"address\" : \"Valley 345\" }\n",
    "{ \"_id\" : ObjectId(\"5f07c72e48d92b2292e37f65\"), \"name\" : \"Sandy\", \"address\" : \"Ocean blvd 2\" }\n",
    "{ \"_id\" : ObjectId(\"5f07c72e48d92b2292e37f66\"), \"name\" : \"Betty\", \"address\" : \"Green Grass 1\" }\n",
    "{ \"_id\" : ObjectId(\"5f07c72e48d92b2292e37f67\"), \"name\" : \"Richard\", \"address\" : \"Sky st 331\" }\n",
    "{ \"_id\" : ObjectId(\"5f07c72e48d92b2292e37f68\"), \"name\" : \"Susan\", \"address\" : \"One way 98\" }\n",
    "{ \"_id\" : ObjectId(\"5f07c72e48d92b2292e37f69\"), \"name\" : \"Vicky\", \"address\" : \"Yellow Garden 2\" }\n",
    "{ \"_id\" : ObjectId(\"5f07c72e48d92b2292e37f6a\"), \"name\" : \"Ben\", \"address\" : \"Park Lane 38\" }\n",
    "{ \"_id\" : ObjectId(\"5f07c72e48d92b2292e37f6b\"), \"name\" : \"William\", \"address\" : \"Central st 954\" }\n",
    "{ \"_id\" : ObjectId(\"5f07c72e48d92b2292e37f6c\"), \"name\" : \"Chuck\", \"address\" : \"Main Road 989\" }\n",
    "{ \"_id\" : ObjectId(\"5f07c72e48d92b2292e37f6d\"), \"name\" : \"Viola\", \"address\" : \"Sideway 1633\" }"
   ]
  },
  {
   "cell_type": "code",
   "execution_count": null,
   "metadata": {},
   "outputs": [],
   "source": [
    "#Insert Multiple Documents, with Specified IDs\n",
    "\n",
    "mylist = [\n",
    "  { \"_id\": 1, \"name\": \"John\", \"address\": \"Highway 37\"},\n",
    "  { \"_id\": 2, \"name\": \"Peter\", \"address\": \"Lowstreet 27\"},\n",
    "  { \"_id\": 3, \"name\": \"Amy\", \"address\": \"Apple st 652\"},\n",
    "  { \"_id\": 4, \"name\": \"Hannah\", \"address\": \"Mountain 21\"},\n",
    "  { \"_id\": 5, \"name\": \"Michael\", \"address\": \"Valley 345\"},\n",
    "  { \"_id\": 6, \"name\": \"Sandy\", \"address\": \"Ocean blvd 2\"},\n",
    "  { \"_id\": 7, \"name\": \"Betty\", \"address\": \"Green Grass 1\"},\n",
    "  { \"_id\": 8, \"name\": \"Richard\", \"address\": \"Sky st 331\"},\n",
    "  { \"_id\": 9, \"name\": \"Susan\", \"address\": \"One way 98\"},\n",
    "  { \"_id\": 10, \"name\": \"Vicky\", \"address\": \"Yellow Garden 2\"},\n",
    "  { \"_id\": 11, \"name\": \"Ben\", \"address\": \"Park Lane 38\"},\n",
    "  { \"_id\": 12, \"name\": \"William\", \"address\": \"Central st 954\"},\n",
    "  { \"_id\": 13, \"name\": \"Chuck\", \"address\": \"Main Road 989\"},\n",
    "  { \"_id\": 14, \"name\": \"Viola\", \"address\": \"Sideway 1633\"}\n",
    "]\n",
    "\n",
    "x = mycol.insert_many(mylist)\n",
    "\n",
    "#print list of the _id values of the inserted documents:\n",
    "print(x.inserted_ids)"
   ]
  },
  {
   "cell_type": "markdown",
   "metadata": {},
   "source": [
    "> db.customers.find()\n",
    "{ \"_id\" : ObjectId(\"5f07c64d48d92b2292e37f61\"), \"name\" : \"John\", \"address\" : \"Highway 37\" }\n",
    "{ \"_id\" : ObjectId(\"5f07c72e48d92b2292e37f62\"), \"name\" : \"Amy\", \"address\" : \"Apple st 652\" }\n",
    "{ \"_id\" : ObjectId(\"5f07c72e48d92b2292e37f63\"), \"name\" : \"Hannah\", \"address\" : \"Mountain 21\" }\n",
    "{ \"_id\" : ObjectId(\"5f07c72e48d92b2292e37f64\"), \"name\" : \"Michael\", \"address\" : \"Valley 345\" }\n",
    "{ \"_id\" : ObjectId(\"5f07c72e48d92b2292e37f65\"), \"name\" : \"Sandy\", \"address\" : \"Ocean blvd 2\" }\n",
    "{ \"_id\" : ObjectId(\"5f07c72e48d92b2292e37f66\"), \"name\" : \"Betty\", \"address\" : \"Green Grass 1\" }\n",
    "{ \"_id\" : ObjectId(\"5f07c72e48d92b2292e37f67\"), \"name\" : \"Richard\", \"address\" : \"Sky st 331\" }\n",
    "{ \"_id\" : ObjectId(\"5f07c72e48d92b2292e37f68\"), \"name\" : \"Susan\", \"address\" : \"One way 98\" }\n",
    "{ \"_id\" : ObjectId(\"5f07c72e48d92b2292e37f69\"), \"name\" : \"Vicky\", \"address\" : \"Yellow Garden 2\" }\n",
    "{ \"_id\" : ObjectId(\"5f07c72e48d92b2292e37f6a\"), \"name\" : \"Ben\", \"address\" : \"Park Lane 38\" }\n",
    "{ \"_id\" : ObjectId(\"5f07c72e48d92b2292e37f6b\"), \"name\" : \"William\", \"address\" : \"Central st 954\" }\n",
    "{ \"_id\" : ObjectId(\"5f07c72e48d92b2292e37f6c\"), \"name\" : \"Chuck\", \"address\" : \"Main Road 989\" }\n",
    "{ \"_id\" : ObjectId(\"5f07c72e48d92b2292e37f6d\"), \"name\" : \"Viola\", \"address\" : \"Sideway 1633\" }"
   ]
  },
  {
   "cell_type": "code",
   "execution_count": null,
   "metadata": {},
   "outputs": [],
   "source": [
    "#Find the first document in the customers collection:\n",
    "x = mycol.find_one()\n",
    "\n",
    "print(x)"
   ]
  },
  {
   "cell_type": "code",
   "execution_count": null,
   "metadata": {},
   "outputs": [],
   "source": [
    "#Return all documents in the \"customers\" collection, and print each document:\n",
    "\n",
    "for x in mycol.find():\n",
    "  print(x)"
   ]
  },
  {
   "cell_type": "code",
   "execution_count": null,
   "metadata": {},
   "outputs": [],
   "source": [
    "#Return only the names and addresses, not the _ids:\n",
    "for x in mycol.find({},{ \"_id\": 0, \"name\": 1, \"address\": 1 }):\n",
    "  print(x)"
   ]
  },
  {
   "cell_type": "code",
   "execution_count": null,
   "metadata": {},
   "outputs": [],
   "source": [
    "#This example will exclude \"address\" from the result:\n",
    "#If you specify a field with the value 0, all other fields get the value 1, and vice versa:\n",
    "for x in mycol.find({},{ \"address\": 0 }):\n",
    "  print(x)"
   ]
  },
  {
   "cell_type": "code",
   "execution_count": null,
   "metadata": {},
   "outputs": [],
   "source": [
    "#Advanced Query\n",
    "#Find documents where the address starts with the letter \"S\" or higher:\n",
    "myquery = { \"address\": { \"$gt\": \"S\" } }\n",
    "\n",
    "mydoc = mycol.find(myquery)\n",
    "\n",
    "for x in mydoc:\n",
    "  print(x)"
   ]
  },
  {
   "cell_type": "code",
   "execution_count": null,
   "metadata": {},
   "outputs": [],
   "source": [
    "#Filter With Regular Expressions\n",
    "myquery = { \"address\": { \"$regex\": \"^[YS].+[12]$\" } }\n",
    "\n",
    "mydoc = mycol.find(myquery)\n",
    "\n",
    "for x in mydoc:\n",
    "  print(x)"
   ]
  },
  {
   "cell_type": "code",
   "execution_count": null,
   "metadata": {},
   "outputs": [],
   "source": [
    "#Sort the result alphabetically by name in ascending order:\n",
    "#sort(\"name\", 1) #ascending\n",
    "#sort(\"name\", -1) #descending\n",
    "\n",
    "mydoc = mycol.find().sort(\"name\")\n",
    "\n",
    "for x in mydoc:\n",
    "  print(x)"
   ]
  },
  {
   "cell_type": "code",
   "execution_count": null,
   "metadata": {},
   "outputs": [],
   "source": [
    "#Sort the result alphabetically by name in ascending order:\n",
    "#sort(\"name\", 1) #ascending\n",
    "#sort(\"name\", -1) #descending\n",
    "\n",
    "mydoc = mycol.find().sort(\"name\",-1)\n",
    "\n",
    "for x in mydoc:\n",
    "  print(x)"
   ]
  },
  {
   "cell_type": "markdown",
   "metadata": {},
   "source": [
    "Documents with the address \"Mountain 21\":\n",
    "{ \"_id\" : ObjectId(\"5f07c72e48d92b2292e37f63\"), \"name\" : \"Hannah\", \"address\" : \"Mountain 21\" }\n",
    "{ \"_id\" : 3, \"name\" : \"Amy\", \"address\" : \"Apple st 652\" }\n"
   ]
  },
  {
   "cell_type": "code",
   "execution_count": 37,
   "metadata": {},
   "outputs": [
    {
     "data": {
      "text/plain": [
       "<pymongo.results.DeleteResult at 0x15507dd6508>"
      ]
     },
     "execution_count": 37,
     "metadata": {},
     "output_type": "execute_result"
    }
   ],
   "source": [
    "#Delete the document with the address \"Mountain 21\":\n",
    "myquery = { \"address\": \"Mountain 21\" }\n",
    "mycol.delete_one(myquery)"
   ]
  },
  {
   "cell_type": "markdown",
   "metadata": {},
   "source": [
    "After deletign a record\n",
    "> db.customers.find({ \"address\": \"Mountain 21\" })\n",
    "{ \"_id\" : 4, \"name\" : \"Hannah\", \"address\" : \"Mountain 21\" }"
   ]
  },
  {
   "cell_type": "code",
   "execution_count": 39,
   "metadata": {},
   "outputs": [
    {
     "name": "stdout",
     "output_type": "stream",
     "text": [
      "4  documents deleted.\n"
     ]
    }
   ],
   "source": [
    "#Delete Many Documents\n",
    "myquery = { \"address\": {\"$regex\": \"^S\"} }\n",
    "\n",
    "x = mycol.delete_many(myquery)\n",
    "\n",
    "print(x.deleted_count, \" documents deleted.\")"
   ]
  },
  {
   "cell_type": "code",
   "execution_count": 40,
   "metadata": {},
   "outputs": [
    {
     "name": "stdout",
     "output_type": "stream",
     "text": [
      "22  documents deleted.\n"
     ]
    }
   ],
   "source": [
    "#Delete all documents in the \"customers\" collection:\n",
    "x = mycol.delete_many({})\n",
    "\n",
    "print(x.deleted_count, \" documents deleted.\")"
   ]
  },
  {
   "cell_type": "code",
   "execution_count": 53,
   "metadata": {},
   "outputs": [],
   "source": [
    "#Delete the \"customers\" collection:\n",
    "mycol.drop()\n",
    "    "
   ]
  },
  {
   "cell_type": "code",
   "execution_count": 54,
   "metadata": {},
   "outputs": [
    {
     "name": "stdout",
     "output_type": "stream",
     "text": [
      "{'_id': ObjectId('5f07ce7048d92b2292e37f76'), 'name': 'John', 'address': 'Highway 37'}\n",
      "{'_id': ObjectId('5f07ce7048d92b2292e37f77'), 'name': 'Shlomo', 'address': 'Highway 38'}\n"
     ]
    }
   ],
   "source": [
    "\n",
    "\n",
    "mydb = myclient[\"mydatabase\"]\n",
    "mycol = mydb[\"customers\"]\n",
    "\n",
    "query1 = { \"name\": \"John\", \"address\": \"Highway 37\" }\n",
    "query2 = { \"name\": \"Shlomo\", \"address\": \"Highway 38\" }\n",
    "\n",
    "mycol.insert_one(query1)\n",
    "mycol.insert_one(query2)\n",
    "\n",
    "\n",
    "\n",
    "newquery = { \"address\": {\"$regex\": \"^H\"} }\n",
    "mydoc = mycol.find(newquery)\n",
    "\n",
    "for x in mydoc:\n",
    "  print(x)\n"
   ]
  },
  {
   "cell_type": "code",
   "execution_count": 55,
   "metadata": {},
   "outputs": [
    {
     "name": "stdout",
     "output_type": "stream",
     "text": [
      "{'_id': ObjectId('5f07ce7048d92b2292e37f76'), 'name': 'John', 'address': 'Canyon 123'}\n",
      "{'_id': ObjectId('5f07ce7048d92b2292e37f77'), 'name': 'Shlomo', 'address': 'Highway 38'}\n"
     ]
    }
   ],
   "source": [
    "#MongoDB Update\n",
    "myquery = { \"address\": \"Highway 37\" }\n",
    "newvalues = { \"$set\": { \"address\": \"Canyon 123\" } }\n",
    "\n",
    "mycol.update_one(myquery, newvalues)\n",
    "\n",
    "#print \"customers\" after the update:\n",
    "for x in mycol.find():\n",
    "  print(x)\n"
   ]
  },
  {
   "cell_type": "code",
   "execution_count": 56,
   "metadata": {},
   "outputs": [
    {
     "name": "stdout",
     "output_type": "stream",
     "text": [
      "2 documents updated.\n",
      "{'_id': ObjectId('5f07ce7048d92b2292e37f76'), 'name': 'John', 'address': 'Saffron Heights'}\n",
      "{'_id': ObjectId('5f07ce7048d92b2292e37f77'), 'name': 'Shlomo', 'address': 'Saffron Heights'}\n"
     ]
    }
   ],
   "source": [
    "#Update Many\n",
    "#Update all documents where the address starts with the letter \"C|H\":\n",
    "myquery = { \"address\": { \"$regex\": \"^[CH]\" } }\n",
    "newvalues = { \"$set\": { \"address\": \"Saffron Heights\" } }\n",
    "\n",
    "x = mycol.update_many(myquery, newvalues)\n",
    "\n",
    "print(x.modified_count, \"documents updated.\")\n",
    "\n",
    "#print \"customers\" after the update:\n",
    "for x in mycol.find():\n",
    "  print(x)"
   ]
  },
  {
   "cell_type": "code",
   "execution_count": 57,
   "metadata": {},
   "outputs": [
    {
     "name": "stdout",
     "output_type": "stream",
     "text": [
      "{'_id': ObjectId('5f07ce7048d92b2292e37f76'), 'name': 'John', 'address': 'Saffron Heights'}\n"
     ]
    }
   ],
   "source": [
    "#Limit the Result\n",
    "myresult = mycol.find().limit(1)\n",
    "\n",
    "#print the result:\n",
    "for x in myresult:\n",
    "  print(x)"
   ]
  }
 ],
 "metadata": {
  "kernelspec": {
   "display_name": "Python 3",
   "language": "python",
   "name": "python3"
  },
  "language_info": {
   "codemirror_mode": {
    "name": "ipython",
    "version": 3
   },
   "file_extension": ".py",
   "mimetype": "text/x-python",
   "name": "python",
   "nbconvert_exporter": "python",
   "pygments_lexer": "ipython3",
   "version": "3.7.4"
  }
 },
 "nbformat": 4,
 "nbformat_minor": 2
}
